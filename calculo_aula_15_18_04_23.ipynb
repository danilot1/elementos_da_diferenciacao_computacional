{
  "nbformat": 4,
  "nbformat_minor": 0,
  "metadata": {
    "colab": {
      "provenance": [],
      "authorship_tag": "ABX9TyOIkxEkhqxseS2uI7HFz11l",
      "include_colab_link": true
    },
    "kernelspec": {
      "name": "python3",
      "display_name": "Python 3"
    },
    "language_info": {
      "name": "python"
    }
  },
  "cells": [
    {
      "cell_type": "markdown",
      "metadata": {
        "id": "view-in-github",
        "colab_type": "text"
      },
      "source": [
        "<a href=\"https://colab.research.google.com/github/danilot1/elementos_da_diferenciacao_computacional/blob/main/calculo_aula_15_18_04_23.ipynb\" target=\"_parent\"><img src=\"https://colab.research.google.com/assets/colab-badge.svg\" alt=\"Open In Colab\"/></a>"
      ]
    },
    {
      "cell_type": "code",
      "execution_count": null,
      "metadata": {
        "id": "F_HlNMukTV43"
      },
      "outputs": [],
      "source": [
        "from sympy import*\n",
        "import math"
      ]
    },
    {
      "cell_type": "code",
      "source": [
        "x = Symbol('x')\n",
        "s = Symbol('s')\n",
        "pi = Symbol('pi')"
      ],
      "metadata": {
        "id": "4EP5GkOMTeBq"
      },
      "execution_count": null,
      "outputs": []
    },
    {
      "cell_type": "code",
      "source": [
        "fx1 = (x**3-1)**100\n",
        "diff(fx1,x)"
      ],
      "metadata": {
        "colab": {
          "base_uri": "https://localhost:8080/",
          "height": 41
        },
        "id": "X7_63MUNTgX5",
        "outputId": "24f10a45-e16b-4bad-ed1d-95582f2bfce6"
      },
      "execution_count": null,
      "outputs": [
        {
          "output_type": "execute_result",
          "data": {
            "text/plain": [
              "300*x**2*(x**3 - 1)**99"
            ],
            "text/latex": "$\\displaystyle 300 x^{2} \\left(x^{3} - 1\\right)^{99}$"
          },
          "metadata": {},
          "execution_count": 3
        }
      ]
    },
    {
      "cell_type": "code",
      "source": [
        "fx2 = sqrt(x**2+1)\n",
        "diff(fx2,x)"
      ],
      "metadata": {
        "colab": {
          "base_uri": "https://localhost:8080/",
          "height": 52
        },
        "id": "DT8Ry-HrVKcU",
        "outputId": "bd0fffe1-649d-4082-b721-15da62d7478e"
      },
      "execution_count": null,
      "outputs": [
        {
          "output_type": "execute_result",
          "data": {
            "text/plain": [
              "x/sqrt(x**2 + 1)"
            ],
            "text/latex": "$\\displaystyle \\frac{x}{\\sqrt{x^{2} + 1}}$"
          },
          "metadata": {},
          "execution_count": 18
        }
      ]
    },
    {
      "cell_type": "code",
      "source": [
        "fx3 = 1/((x**2)+x+1)**1/3 \n",
        "diff(fx3,x)"
      ],
      "metadata": {
        "colab": {
          "base_uri": "https://localhost:8080/",
          "height": 58
        },
        "id": "Q9mSafe1YvND",
        "outputId": "4f8f07f6-c183-4c42-f702-530240593e14"
      },
      "execution_count": null,
      "outputs": [
        {
          "output_type": "execute_result",
          "data": {
            "text/plain": [
              "(-2*x - 1)/(3*(x**2 + x + 1)**2)"
            ],
            "text/latex": "$\\displaystyle \\frac{- 2 x - 1}{3 \\left(x^{2} + x + 1\\right)^{2}}$"
          },
          "metadata": {},
          "execution_count": 22
        }
      ]
    }
  ]
}